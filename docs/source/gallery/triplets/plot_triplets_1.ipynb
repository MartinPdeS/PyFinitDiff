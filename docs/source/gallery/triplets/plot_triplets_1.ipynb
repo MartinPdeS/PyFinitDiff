{
  "cells": [
    {
      "cell_type": "code",
      "execution_count": null,
      "metadata": {
        "collapsed": false
      },
      "outputs": [],
      "source": [
        "%matplotlib inline"
      ]
    },
    {
      "cell_type": "markdown",
      "metadata": {},
      "source": [
        "\n# Example: triplets 1\n"
      ]
    },
    {
      "cell_type": "markdown",
      "metadata": {},
      "source": [
        ".. list-table:: Finit-difference parameters\n   :widths: 25\n   :header-rows: 1\n\n   * - boundaries: {left: 0, right: 0, top: 0, bottom: 0}\n   * - derivative: 2\n   * - accuracy: 4\n\n"
      ]
    },
    {
      "cell_type": "code",
      "execution_count": null,
      "metadata": {
        "collapsed": false
      },
      "outputs": [],
      "source": [
        "from PyFinitDiff.sparse2D import FiniteDifference2D as SparseFD\nfrom PyFinitDiff.boundaries import Boundaries2D\n\n\nsparse_instance = SparseFD(\n    n_x=12,\n    n_y=12,\n    dx=1,\n    dy=1,\n    derivative=2,\n    accuracy=4,\n    boundaries=Boundaries2D()\n)\n\nsparse_instance.triplet.plot()\n\n# -"
      ]
    }
  ],
  "metadata": {
    "kernelspec": {
      "display_name": "Python 3",
      "language": "python",
      "name": "python3"
    },
    "language_info": {
      "codemirror_mode": {
        "name": "ipython",
        "version": 3
      },
      "file_extension": ".py",
      "mimetype": "text/x-python",
      "name": "python",
      "nbconvert_exporter": "python",
      "pygments_lexer": "ipython3",
      "version": "3.10.9"
    }
  },
  "nbformat": 4,
  "nbformat_minor": 0
}